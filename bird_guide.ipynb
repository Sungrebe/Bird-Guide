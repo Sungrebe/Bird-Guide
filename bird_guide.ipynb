{
  "cells": [
    {
      "cell_type": "markdown",
      "metadata": {
        "id": "view-in-github",
        "colab_type": "text"
      },
      "source": [
        "<a href=\"https://colab.research.google.com/github/Sungrebe/Bird_Guide/blob/main/bird_guide.ipynb\" target=\"_parent\"><img src=\"https://colab.research.google.com/assets/colab-badge.svg\" alt=\"Open In Colab\"/></a>"
      ]
    },
    {
      "cell_type": "code",
      "execution_count": null,
      "metadata": {
        "colab": {
          "base_uri": "https://localhost:8080/"
        },
        "id": "9rGDQtzX8y5o",
        "outputId": "7ace92a0-5786-4e4e-c7c2-ea5c1c7763a1"
      },
      "outputs": [
        {
          "output_type": "stream",
          "name": "stdout",
          "text": [
            "Drive already mounted at /content/drive; to attempt to forcibly remount, call drive.mount(\"/content/drive\", force_remount=True).\n"
          ]
        }
      ],
      "source": [
        "# load files from Google Drive\n",
        "\n",
        "from google.colab import drive\n",
        "\n",
        "drive.mount('/content/drive')"
      ]
    },
    {
      "cell_type": "code",
      "source": [
        "import os\n",
        "import shutil\n",
        "import random\n",
        "\n",
        "bird_dict = {\n",
        "    '0457': 'Canada Goose',\n",
        "    '0469': 'Wild Turkey',\n",
        "    '0480': 'Great Blue Heron',\n",
        "    '0490': 'Turkey Vulture',\n",
        "    '0504': 'Killdeer',\n",
        "    '0525': 'Rock Pigeon',\n",
        "    '0549': 'Belted Kingfisher',\n",
        "    '0957': 'American Crow',\n",
        "    '0810': 'Barn Swallow',\n",
        "    '0840': 'Ruby-crowned Kinglet',\n",
        "    '0852': 'Northern Mockingbird',\n",
        "    '0824': 'White-breasted Nuthatch',\n",
        "    '0902': 'Song Sparrow',\n",
        "}\n",
        "\n",
        "# create a data folder for each species\n",
        "\n",
        "data_dir = '/content/data/'\n",
        "\n",
        "if (not os.path.isdir(data_dir)):\n",
        "  os.mkdir(data_dir)\n",
        "\n",
        "parent_dir = '/content/drive/MyDrive/Bird-Guide-Project/'\n",
        "\n",
        "for bird_img_dir in bird_dict:\n",
        "\n",
        "  species_dir = os.path.join(data_dir, bird_dict[bird_img_dir])\n",
        "\n",
        "  if (not os.path.isdir(species_dir)):\n",
        "    os.mkdir(species_dir)\n",
        "\n",
        "  img_dir_path = os.path.join(parent_dir, 'nabirds/', bird_img_dir)\n",
        "  img_list = os.listdir(img_dir_path)\n",
        "\n",
        "  for img in img_list:\n",
        "    shutil.copy2(\n",
        "      os.path.join(img_dir_path + '/', img),\n",
        "      os.path.join(data_dir + bird_dict[bird_img_dir] + '/', img),\n",
        "    )"
      ],
      "metadata": {
        "id": "nC4Wp-cg0TDY",
        "colab": {
          "base_uri": "https://localhost:8080/",
          "height": 211
        },
        "outputId": "5e88f6a1-a7c4-495c-d710-b0f43a943ba3"
      },
      "execution_count": null,
      "outputs": [
        {
          "output_type": "error",
          "ename": "FileNotFoundError",
          "evalue": "[Errno 2] No such file or directory: '/content/drive/MyDrive/Bird-Guide-Project/nabirds/0457'",
          "traceback": [
            "\u001b[0;31m---------------------------------------------------------------------------\u001b[0m",
            "\u001b[0;31mFileNotFoundError\u001b[0m                         Traceback (most recent call last)",
            "\u001b[0;32m<ipython-input-7-c780a63d0351>\u001b[0m in \u001b[0;36m<cell line: 30>\u001b[0;34m()\u001b[0m\n\u001b[1;32m     36\u001b[0m \u001b[0;34m\u001b[0m\u001b[0m\n\u001b[1;32m     37\u001b[0m   \u001b[0mimg_dir_path\u001b[0m \u001b[0;34m=\u001b[0m \u001b[0mos\u001b[0m\u001b[0;34m.\u001b[0m\u001b[0mpath\u001b[0m\u001b[0;34m.\u001b[0m\u001b[0mjoin\u001b[0m\u001b[0;34m(\u001b[0m\u001b[0mparent_dir\u001b[0m\u001b[0;34m,\u001b[0m \u001b[0;34m'nabirds/'\u001b[0m\u001b[0;34m,\u001b[0m \u001b[0mbird_img_dir\u001b[0m\u001b[0;34m)\u001b[0m\u001b[0;34m\u001b[0m\u001b[0;34m\u001b[0m\u001b[0m\n\u001b[0;32m---> 38\u001b[0;31m   \u001b[0mimg_list\u001b[0m \u001b[0;34m=\u001b[0m \u001b[0mos\u001b[0m\u001b[0;34m.\u001b[0m\u001b[0mlistdir\u001b[0m\u001b[0;34m(\u001b[0m\u001b[0mimg_dir_path\u001b[0m\u001b[0;34m)\u001b[0m\u001b[0;34m\u001b[0m\u001b[0;34m\u001b[0m\u001b[0m\n\u001b[0m\u001b[1;32m     39\u001b[0m \u001b[0;34m\u001b[0m\u001b[0m\n\u001b[1;32m     40\u001b[0m   \u001b[0;32mfor\u001b[0m \u001b[0mimg\u001b[0m \u001b[0;32min\u001b[0m \u001b[0mimg_list\u001b[0m\u001b[0;34m:\u001b[0m\u001b[0;34m\u001b[0m\u001b[0;34m\u001b[0m\u001b[0m\n",
            "\u001b[0;31mFileNotFoundError\u001b[0m: [Errno 2] No such file or directory: '/content/drive/MyDrive/Bird-Guide-Project/nabirds/0457'"
          ]
        }
      ]
    },
    {
      "cell_type": "code",
      "source": [
        "# load the training and validation dataset using an 80/20 split\n",
        "\n",
        "from tensorflow import keras\n",
        "import matplotlib.pyplot as plt\n",
        "import numpy as np\n",
        "\n",
        "train_ds, val_ds = keras.utils.image_dataset_from_directory(\n",
        "    data_dir,\n",
        "    validation_split = 0.2,\n",
        "    subset = \"both\",\n",
        "    seed = 123,\n",
        ")\n",
        "\n",
        "data_augmentation_layers = [\n",
        "    keras.layers.RandomFlip(\"horizontal\"),\n",
        "    keras.layers.RandomRotation(factor=0.2),\n",
        "    keras.layers.RandomBrightness(factor=0.4),\n",
        "]\n",
        "\n",
        "def data_augmentation(images, training=True):\n",
        "  for layer in data_augmentation_layers:\n",
        "    images = layer(images)\n",
        "\n",
        "  return images\n",
        "\n",
        "train_ds = train_ds.map(\n",
        "    lambda x, y: (data_augmentation(x), y))"
      ],
      "metadata": {
        "colab": {
          "base_uri": "https://localhost:8080/",
          "height": 269
        },
        "id": "kNHWuo3h0xbr",
        "outputId": "c927f063-222c-4c42-e9e5-9c8a07c3c169"
      },
      "execution_count": null,
      "outputs": [
        {
          "output_type": "stream",
          "name": "stdout",
          "text": [
            "Found 1428 files belonging to 13 classes.\n",
            "Using 1143 files for training.\n",
            "Using 285 files for validation.\n"
          ]
        },
        {
          "output_type": "error",
          "ename": "TypeError",
          "evalue": "fromiter() missing required argument 'dtype' (pos 2)",
          "traceback": [
            "\u001b[0;31m---------------------------------------------------------------------------\u001b[0m",
            "\u001b[0;31mTypeError\u001b[0m                                 Traceback (most recent call last)",
            "\u001b[0;32m<ipython-input-24-b8ca8321490b>\u001b[0m in \u001b[0;36m<cell line: 14>\u001b[0;34m()\u001b[0m\n\u001b[1;32m     12\u001b[0m )\n\u001b[1;32m     13\u001b[0m \u001b[0;34m\u001b[0m\u001b[0m\n\u001b[0;32m---> 14\u001b[0;31m \u001b[0mtrain_ds_one_hot\u001b[0m \u001b[0;34m=\u001b[0m \u001b[0mkeras\u001b[0m\u001b[0;34m.\u001b[0m\u001b[0mutils\u001b[0m\u001b[0;34m.\u001b[0m\u001b[0mto_categorical\u001b[0m\u001b[0;34m(\u001b[0m\u001b[0mnp\u001b[0m\u001b[0;34m.\u001b[0m\u001b[0mfromiter\u001b[0m\u001b[0;34m(\u001b[0m\u001b[0mtrain_ds\u001b[0m\u001b[0;34m.\u001b[0m\u001b[0mas_numpy_iterator\u001b[0m\u001b[0;34m(\u001b[0m\u001b[0;34m)\u001b[0m\u001b[0;34m)\u001b[0m\u001b[0;34m)\u001b[0m\u001b[0;34m\u001b[0m\u001b[0;34m\u001b[0m\u001b[0m\n\u001b[0m\u001b[1;32m     15\u001b[0m \u001b[0;34m\u001b[0m\u001b[0m\n\u001b[1;32m     16\u001b[0m data_augmentation_layers = [\n",
            "\u001b[0;31mTypeError\u001b[0m: fromiter() missing required argument 'dtype' (pos 2)"
          ]
        }
      ]
    }
  ],
  "metadata": {
    "colab": {
      "provenance": [],
      "toc_visible": true,
      "include_colab_link": true
    },
    "kernelspec": {
      "display_name": "Python 3",
      "name": "python3"
    },
    "language_info": {
      "name": "python"
    }
  },
  "nbformat": 4,
  "nbformat_minor": 0
}